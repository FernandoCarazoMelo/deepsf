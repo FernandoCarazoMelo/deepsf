{
 "cells": [
  {
   "cell_type": "code",
   "execution_count": null,
   "id": "b9dfedee",
   "metadata": {},
   "outputs": [],
   "source": [
    "from IPython.core.interactiveshell import InteractiveShell\n",
    "InteractiveShell.ast_node_interactivity = \"all\"\n",
    "\n",
    "from sklearn import utils\n",
    "import wandb\n",
    "import pandas as pd\n",
    "import numpy as np\n",
    "import seaborn as sns\n",
    "import matplotlib.pyplot as plt\n",
    "from sklearn.model_selection import train_test_split\n",
    "from sklearn.preprocessing import StandardScaler\n",
    "from scipy import stats\n",
    "\n",
    "pd.set_option('display.max_columns', 500)\n",
    "\n",
    "# local modules\n",
    "from utils.config import Config, Config_AE\n",
    "import utils.utils as utils\n",
    "import utils.plots as plots\n",
    "import modelsNN.modelsNN as modelsNN"
   ]
  },
  {
   "cell_type": "code",
   "execution_count": null,
   "id": "f0a6dc95",
   "metadata": {},
   "outputs": [],
   "source": [
    "# Local:\n",
    "PATH_DEEPSF = 'C:/Users/joseb/Downloads/deepsf/data'"
   ]
  },
  {
   "cell_type": "code",
   "execution_count": null,
   "id": "50f83e9f",
   "metadata": {},
   "outputs": [],
   "source": [
    "# %%% Setting deepAE NN characteristics.\n",
    "configAE = Config_AE()\n",
    "configAE.get_config()  \n",
    "configSF = Config(if_ensemble = True)\n",
    "configSF.get_config()"
   ]
  },
  {
   "cell_type": "code",
   "execution_count": null,
   "id": "b37bfe15",
   "metadata": {},
   "outputs": [],
   "source": [
    "# %%% Get the data\n",
    "data_AE = utils.get_data_AE(PATH_DEEPSF, configAE)\n",
    "data_prep = utils.get_data(PATH_DEEPSF, configSF)"
   ]
  },
  {
   "cell_type": "code",
   "execution_count": null,
   "id": "55a7f572",
   "metadata": {},
   "outputs": [],
   "source": [
    "data_ensemble = utils.get_model_loader_ensemble('model_DeepAE_adamW.pt', PATH_DEEPSF, data_prep, data_AE, configSF)\n",
    "\n",
    "model = data_ensemble.model\n",
    "train_loader = data_ensemble.train_loader\n",
    "val_loader = data_ensemble.val_loader\n",
    "\n",
    "model"
   ]
  },
  {
   "cell_type": "code",
   "execution_count": null,
   "id": "e7aa83ec",
   "metadata": {},
   "outputs": [],
   "source": [
    "optimizer = utils.build_optimizer(model, configSF.optimizer, configSF.learning_rate)\n",
    "history = utils.fit(10, \n",
    "                    model, \n",
    "                    train_loader, \n",
    "                    val_loader, \n",
    "                    optimizer=optimizer,\n",
    "                    hyperparameters = configSF.get_config(),\n",
    "                    if_wandb = configSF.if_wandb,\n",
    "                    path = PATH_DEEPSF,\n",
    "                    model_name = 'prueba2.pt',\n",
    "                    project_name = 'DeepSF_AE_Ensemble_training')\n",
    "\n",
    "# %%% Plot results\n",
    "solution = plots.plot_results(history = history, \n",
    "                     scaledTrain_df = data_prep.scaledTrain_df, \n",
    "                     train_labels = data_prep.train_labels, \n",
    "                     scaled_train_gn = data_prep.scaled_train_gn, \n",
    "                     scaledValidation_df = data_prep.scaledValidation_df, \n",
    "                     valid_labels = data_prep.valid_labels , \n",
    "                     scaled_valid_gn = data_prep.scaled_valid_gn, \n",
    "                     model = model, \n",
    "                     getBM = data_prep.getBM,\n",
    "                     if_wandb = configSF.if_wandb,\n",
    "                     config = configSF,\n",
    "                     if_ensemble=configSF.if_ensemble, \n",
    "                     xa_tr = data_AE.TCGA_tpm_gn_prot_cod_log2p.loc[data_prep.scaledTrain_df.index],\n",
    "                     xa_val = data_AE.TCGA_tpm_gn_prot_cod_log2p.loc[data_prep.scaledValidation_df.index])\n",
    "        \n",
    "if configSF.if_wandb:\n",
    "    wandb.finish()\n",
    "\n",
    "solution.solution_train_cor_total\n",
    "solution.solution_train_df\n",
    "solution.solution_val_cor_total\n",
    "solution.solution_val_df"
   ]
  },
  {
   "cell_type": "code",
   "execution_count": null,
   "id": "dea33373",
   "metadata": {},
   "outputs": [],
   "source": [
    "# Deeplift\n",
    "df_score_SFs = utils.do_deeplift(model, \n",
    "                 X_test = data_prep.scaledValidation_df,\n",
    "                 gn_test = data_prep.scaled_valid_gn, \n",
    "                 y_test = data_prep.valid_labels, \n",
    "                 data_prep = data_prep, \n",
    "                 if_ensemble = configSF.if_ensemble,\n",
    "                 xa_test = data_AE.TCGA_tpm_gn_prot_cod_log2p.loc[data_prep.scaledValidation_df.index])\n",
    "df_score_SFs.head()"
   ]
  }
 ],
 "metadata": {
  "kernelspec": {
   "display_name": "Python 3 (ipykernel)",
   "language": "python",
   "name": "python3"
  },
  "language_info": {
   "codemirror_mode": {
    "name": "ipython",
    "version": 3
   },
   "file_extension": ".py",
   "mimetype": "text/x-python",
   "name": "python",
   "nbconvert_exporter": "python",
   "pygments_lexer": "ipython3",
   "version": "3.7.1"
  }
 },
 "nbformat": 4,
 "nbformat_minor": 5
}
