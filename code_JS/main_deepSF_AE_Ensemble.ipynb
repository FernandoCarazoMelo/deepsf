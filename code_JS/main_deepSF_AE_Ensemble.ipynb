{
 "cells": [
  {
   "cell_type": "code",
   "execution_count": 1,
   "id": "b9dfedee",
   "metadata": {},
   "outputs": [],
   "source": [
    "from IPython.core.interactiveshell import InteractiveShell\n",
    "InteractiveShell.ast_node_interactivity = \"all\"\n",
    "\n",
    "from sklearn import utils\n",
    "import wandb\n",
    "import pandas as pd\n",
    "import numpy as np\n",
    "import seaborn as sns\n",
    "import matplotlib.pyplot as plt\n",
    "from sklearn.model_selection import train_test_split\n",
    "from sklearn.preprocessing import StandardScaler\n",
    "from scipy import stats\n",
    "\n",
    "pd.set_option('display.max_columns', 500)\n",
    "\n",
    "# local modules\n",
    "from utils.config import Config, Config_AE\n",
    "import utils.utils as utils\n",
    "import utils.plots as plots\n",
    "import modelsNN.modelsNN as modelsNN"
   ]
  },
  {
   "cell_type": "code",
   "execution_count": 2,
   "id": "f0a6dc95",
   "metadata": {},
   "outputs": [],
   "source": [
    "# Local:\n",
    "PATH_DEEPSF = 'C:/Users/joseb/Downloads/deepsf/data'"
   ]
  },
  {
   "cell_type": "code",
   "execution_count": 3,
   "id": "50f83e9f",
   "metadata": {},
   "outputs": [
    {
     "data": {
      "text/plain": [
       "{'batch_size': 256,\n",
       " 'optimizer': 'Adam',\n",
       " 'epochs': 40000,\n",
       " 'learning_rate': 0.0001,\n",
       " 'if_wandb': True,\n",
       " 'test_size': 0.2,\n",
       " 'tumor_type': ['LUAD']}"
      ]
     },
     "execution_count": 3,
     "metadata": {},
     "output_type": "execute_result"
    },
    {
     "data": {
      "text/plain": [
       "{'batch_size': 32,\n",
       " 'optimizer': 'adamW',\n",
       " 'modelNN': 'DeepSF_2hidden',\n",
       " 'epochs': 3000,\n",
       " 'learning_rate': 0.0001,\n",
       " 'if_toy': False,\n",
       " 'if_wandb': False,\n",
       " 'test_size': 0.2,\n",
       " 'num_genes': 898,\n",
       " 'tumor_type': ['LUAD']}"
      ]
     },
     "execution_count": 3,
     "metadata": {},
     "output_type": "execute_result"
    }
   ],
   "source": [
    "# %%% Setting deepAE NN characteristics.\n",
    "configAE = Config_AE()\n",
    "configAE.get_config()  \n",
    "configSF = Config()\n",
    "configSF.get_config()"
   ]
  },
  {
   "cell_type": "code",
   "execution_count": 4,
   "id": "b37bfe15",
   "metadata": {},
   "outputs": [],
   "source": [
    "# %%% Get the data\n",
    "data_AE = utils.get_data_AE(PATH_DEEPSF, configAE)\n",
    "data_prep = utils.get_data(PATH_DEEPSF, configSF)"
   ]
  },
  {
   "cell_type": "code",
   "execution_count": 5,
   "id": "55a7f572",
   "metadata": {},
   "outputs": [
    {
     "data": {
      "text/plain": [
       "DeepSF_AE_Ensemble(\n",
       "  (modelAE): Sequential(\n",
       "    (0): Linear(in_features=19594, out_features=512, bias=True)\n",
       "    (1): BatchNorm1d(512, eps=1e-05, momentum=0.1, affine=True, track_running_stats=True)\n",
       "    (2): Linear(in_features=512, out_features=512, bias=True)\n",
       "    (3): BatchNorm1d(512, eps=1e-05, momentum=0.1, affine=True, track_running_stats=True)\n",
       "    (4): Linear(in_features=512, out_features=512, bias=True)\n",
       "  )\n",
       "  (linear1): Linear(in_features=1279, out_features=183, bias=True)\n",
       "  (bn1): BatchNorm1d(183, eps=1e-05, momentum=0.1, affine=True, track_running_stats=True)\n",
       "  (linear2): Linear(in_features=183, out_features=82, bias=True)\n",
       "  (bn2): BatchNorm1d(82, eps=1e-05, momentum=0.1, affine=True, track_running_stats=True)\n",
       "  (linear3): Linear(in_features=594, out_features=10095, bias=True)\n",
       ")"
      ]
     },
     "execution_count": 5,
     "metadata": {},
     "output_type": "execute_result"
    }
   ],
   "source": [
    "data_ensemble = utils.get_model_loader_ensemble('model_DeepAE_adamW.pt', PATH_DEEPSF, data_prep, data_AE, configSF)\n",
    "\n",
    "model = data_ensemble.model\n",
    "train_loader = data_ensemble.train_loader\n",
    "val_loader = data_ensemble.val_loader\n",
    "\n",
    "model"
   ]
  },
  {
   "cell_type": "code",
   "execution_count": 6,
   "id": "e7aa83ec",
   "metadata": {},
   "outputs": [
    {
     "name": "stdout",
     "output_type": "stream",
     "text": [
      "Epoch [0], loss: 1455.6373, val_loss: 1106.6455\n",
      "Epoch [1], loss: 890.6907, val_loss: 746.3263\n",
      "Epoch [2], loss: 603.6586, val_loss: 531.6796\n",
      "Epoch [3], loss: 439.9738, val_loss: 386.2728\n",
      "Epoch [4], loss: 317.7553, val_loss: 283.8972\n",
      "Epoch [5], loss: 237.5688, val_loss: 211.7091\n",
      "Epoch [6], loss: 176.8582, val_loss: 160.0069\n",
      "Epoch [7], loss: 135.1878, val_loss: 122.1896\n",
      "Epoch [8], loss: 101.7263, val_loss: 94.9110\n",
      "Epoch [9], loss: 80.1493, val_loss: 74.7522\n",
      "Model saved succesfully in C:/Users/joseb/Downloads/deepsf/data\n"
     ]
    },
    {
     "ename": "AttributeError",
     "evalue": "'DataAE' object has no attribute 'TCGA_tpm_gn_prot_cod'",
     "output_type": "error",
     "traceback": [
      "\u001b[1;31m---------------------------------------------------------------------------\u001b[0m",
      "\u001b[1;31mAttributeError\u001b[0m                            Traceback (most recent call last)",
      "\u001b[1;32m~\\AppData\\Local\\Temp\\ipykernel_20624\\2328560694.py\u001b[0m in \u001b[0;36m<module>\u001b[1;34m\u001b[0m\n\u001b[0;32m     24\u001b[0m                      \u001b[0mconfig\u001b[0m \u001b[1;33m=\u001b[0m \u001b[0mconfigSF\u001b[0m\u001b[1;33m,\u001b[0m\u001b[1;33m\u001b[0m\u001b[1;33m\u001b[0m\u001b[0m\n\u001b[0;32m     25\u001b[0m                      \u001b[0mif_ensemble\u001b[0m\u001b[1;33m=\u001b[0m\u001b[1;32mTrue\u001b[0m\u001b[1;33m,\u001b[0m\u001b[1;33m\u001b[0m\u001b[1;33m\u001b[0m\u001b[0m\n\u001b[1;32m---> 26\u001b[1;33m                      \u001b[0mxa_tr\u001b[0m \u001b[1;33m=\u001b[0m \u001b[0mdata_AE\u001b[0m\u001b[1;33m.\u001b[0m\u001b[0mTCGA_tpm_gn_prot_cod\u001b[0m\u001b[1;33m.\u001b[0m\u001b[0mloc\u001b[0m\u001b[1;33m[\u001b[0m\u001b[0mdata_prep\u001b[0m\u001b[1;33m.\u001b[0m\u001b[0mscaledTrain_df\u001b[0m\u001b[1;33m.\u001b[0m\u001b[0mindex\u001b[0m\u001b[1;33m]\u001b[0m\u001b[1;33m,\u001b[0m\u001b[1;33m\u001b[0m\u001b[1;33m\u001b[0m\u001b[0m\n\u001b[0m\u001b[0;32m     27\u001b[0m                      xa_val = data_AE.TCGA_tpm_gn_prot_cod.loc[data_prep.scaledValidation_df.index])\n\u001b[0;32m     28\u001b[0m \u001b[1;33m\u001b[0m\u001b[0m\n",
      "\u001b[1;31mAttributeError\u001b[0m: 'DataAE' object has no attribute 'TCGA_tpm_gn_prot_cod'"
     ]
    }
   ],
   "source": [
    "optimizer = utils.build_optimizer(model, configSF.optimizer, configSF.learning_rate)\n",
    "history = utils.fit(10, \n",
    "                    model, \n",
    "                    train_loader, \n",
    "                    val_loader, \n",
    "                    optimizer=optimizer,\n",
    "                    hyperparameters = configSF.get_config(),\n",
    "                    if_wandb = configSF.if_wandb,\n",
    "                    path = PATH_DEEPSF,\n",
    "                    model_name = 'prueba2.pt',\n",
    "                    project_name = 'DeepSF_AE_Ensemble_training')\n",
    "\n",
    "# %%% Plot results\n",
    "solution = plots.plot_results(history = history, \n",
    "                     scaledTrain_df = data_prep.scaledTrain_df, \n",
    "                     train_labels = data_prep.train_labels, \n",
    "                     scaled_train_gn = data_prep.scaled_train_gn, \n",
    "                     scaledValidation_df = data_prep.scaledValidation_df, \n",
    "                     valid_labels = data_prep.valid_labels , \n",
    "                     scaled_valid_gn = data_prep.scaled_valid_gn, \n",
    "                     model = model, \n",
    "                     getBM = data_prep.getBM,\n",
    "                     if_wandb = configSF.if_wandb,\n",
    "                     config = configSF,\n",
    "                     if_ensemble=True, \n",
    "                     xa_tr = data_AE.TCGA_tpm_gn_prot_cod.loc[data_prep.scaledTrain_df.index],\n",
    "                     xa_val = data_AE.TCGA_tpm_gn_prot_cod.loc[data_prep.scaledValidation_df.index])\n",
    "        \n",
    "if configSF.if_wandb:\n",
    "    wandb.finish()\n",
    "\n",
    "solution.solution_train_cor_total\n",
    "solution.solution_train_df\n",
    "solution.solution_val_cor_total\n",
    "solution.solution_val_df"
   ]
  }
 ],
 "metadata": {
  "kernelspec": {
   "display_name": "Python 3",
   "language": "python",
   "name": "python3"
  },
  "language_info": {
   "codemirror_mode": {
    "name": "ipython",
    "version": 3
   },
   "file_extension": ".py",
   "mimetype": "text/x-python",
   "name": "python",
   "nbconvert_exporter": "python",
   "pygments_lexer": "ipython3",
   "version": "3.6.10"
  }
 },
 "nbformat": 4,
 "nbformat_minor": 5
}
