{
 "cells": [
  {
   "cell_type": "code",
   "execution_count": 1,
   "id": "c15519d3",
   "metadata": {},
   "outputs": [],
   "source": [
    "from IPython.core.interactiveshell import InteractiveShell\n",
    "InteractiveShell.ast_node_interactivity = \"all\"\n",
    "from sklearn import utils\n",
    "import wandb\n",
    "import pandas as pd\n",
    "import numpy as np\n",
    "import seaborn as sns\n",
    "import matplotlib.pyplot as plt\n",
    "from sklearn.model_selection import train_test_split\n",
    "from sklearn.preprocessing import StandardScaler\n",
    "from scipy import stats\n",
    "import torch\n",
    "\n",
    "pd.set_option('display.max_columns', 500)\n",
    "\n",
    "# local modules\n",
    "from utils.config import Config_AE\n",
    "import utils.utils as utils\n",
    "import utils.plots as plots\n",
    "import modelsNN.modelsNN as modelsNN"
   ]
  },
  {
   "cell_type": "code",
   "execution_count": 4,
   "id": "f528532b",
   "metadata": {},
   "outputs": [],
   "source": [
    "# Local:\n",
    "PATH_DEEPSF = 'C:/Users/joseb/Downloads/deepsf/data'"
   ]
  },
  {
   "cell_type": "code",
   "execution_count": 15,
   "id": "e30e090e",
   "metadata": {},
   "outputs": [
    {
     "data": {
      "text/plain": [
       "{'batch_size': 128,\n",
       " 'optimizer': 'Adam',\n",
       " 'epochs': 40000,\n",
       " 'learning_rate': 0.0001,\n",
       " 'if_wandb': True,\n",
       " 'test_size': 0.2,\n",
       " 'tumor_type': 'all'}"
      ]
     },
     "execution_count": 15,
     "metadata": {},
     "output_type": "execute_result"
    }
   ],
   "source": [
    "# %%% Setting deepAE NN characteristics.\n",
    "configAE = Config_AE()\n",
    "configAE.get_config()   "
   ]
  },
  {
   "cell_type": "code",
   "execution_count": 13,
   "id": "5efe637f",
   "metadata": {},
   "outputs": [],
   "source": [
    "# %%% Get the data AE\n",
    "data_AE = utils.get_data_AE(PATH_DEEPSF, configAE)"
   ]
  },
  {
   "cell_type": "code",
   "execution_count": 14,
   "id": "c2360dac",
   "metadata": {},
   "outputs": [
    {
     "data": {
      "text/plain": [
       "(1232, 19594)"
      ]
     },
     "execution_count": 14,
     "metadata": {},
     "output_type": "execute_result"
    }
   ],
   "source": [
    "data_AE.TCGA_tpm_gn_prot_cod_log2p.shape"
   ]
  },
  {
   "cell_type": "code",
   "execution_count": null,
   "id": "b14ca5cf",
   "metadata": {},
   "outputs": [],
   "source": [
    "# %%% Get the model AE\n",
    "model_AE = modelsNN.DeepAE(n_inputs=data_AE.scaledTrain_df.shape[1])\n",
    "model_AE"
   ]
  },
  {
   "cell_type": "code",
   "execution_count": null,
   "id": "aa17e69b",
   "metadata": {},
   "outputs": [],
   "source": [
    "model_name = 'AE_with_Adam.pt'\n",
    "project_name = 'Training_DeepAE'"
   ]
  },
  {
   "cell_type": "code",
   "execution_count": null,
   "id": "ac6c3d41",
   "metadata": {},
   "outputs": [],
   "source": [
    "optimizer = torch.optim.Adam(model_AE.parameters(), \n",
    "                             lr=configAE.learning_rate, \n",
    "                             betas=(0.9, 0.999),\n",
    "                             eps=1e-08,\n",
    "                             weight_decay=1e-6)\n",
    "\n",
    "# # # %%% Train\n",
    "history = utils.fit(configAE.epochs,\n",
    "                    model_AE, \n",
    "                    data_AE.train_loaderAE, \n",
    "                    data_AE.val_loaderAE,                    \n",
    "                    optimizer=optimizer,\n",
    "                    hyperparameters = configAE.get_config(),\n",
    "                    if_wandb = configAE.if_wandb,\n",
    "                    path = PATH_DEEPSF,\n",
    "                    model_name = model_name,\n",
    "                    project_name = project_name)"
   ]
  }
 ],
 "metadata": {
  "kernelspec": {
   "display_name": "Python 3",
   "language": "python",
   "name": "python3"
  },
  "language_info": {
   "codemirror_mode": {
    "name": "ipython",
    "version": 3
   },
   "file_extension": ".py",
   "mimetype": "text/x-python",
   "name": "python",
   "nbconvert_exporter": "python",
   "pygments_lexer": "ipython3",
   "version": "3.6.10"
  }
 },
 "nbformat": 4,
 "nbformat_minor": 5
}
