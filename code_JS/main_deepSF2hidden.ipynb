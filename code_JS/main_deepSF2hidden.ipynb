{
 "cells": [
  {
   "cell_type": "code",
   "execution_count": null,
   "id": "762dd666",
   "metadata": {},
   "outputs": [],
   "source": [
    "from IPython.core.interactiveshell import InteractiveShell\n",
    "InteractiveShell.ast_node_interactivity = \"all\"\n",
    "from sklearn import utils\n",
    "import wandb\n",
    "import pandas as pd\n",
    "import numpy as np\n",
    "import seaborn as sns\n",
    "import matplotlib.pyplot as plt\n",
    "from sklearn.model_selection import train_test_split\n",
    "from sklearn.preprocessing import StandardScaler\n",
    "from scipy import stats\n",
    "\n",
    "pd.set_option('display.max_columns', 500)\n",
    "\n",
    "# local modules\n",
    "from utils.config import Config\n",
    "import utils.utils as utils\n",
    "import utils.plots as plots\n",
    "import modelsNN.modelsNN as modelsNN"
   ]
  },
  {
   "cell_type": "code",
   "execution_count": null,
   "id": "4bdcb2d8",
   "metadata": {},
   "outputs": [],
   "source": [
    "# Local:\n",
    "PATH_DEEPSF = 'C:/Users/joseb/Downloads/deepsf/data'"
   ]
  },
  {
   "cell_type": "code",
   "execution_count": null,
   "id": "a8981dfe",
   "metadata": {},
   "outputs": [],
   "source": [
    "# %%% Setting deepsf NN characteristics.\n",
    "configSF = Config()\n",
    "configSF.get_config()"
   ]
  },
  {
   "cell_type": "code",
   "execution_count": null,
   "id": "b938b85a",
   "metadata": {},
   "outputs": [],
   "source": [
    "# %%% Get the data\n",
    "data_prep = utils.get_data(PATH_DEEPSF, configSF)"
   ]
  },
  {
   "cell_type": "code",
   "execution_count": null,
   "id": "c2d43b3a",
   "metadata": {},
   "outputs": [],
   "source": [
    "model_name = 'deepSF2hidden.pt'\n",
    "project_name = 'Training_DeepSF2hidden'"
   ]
  },
  {
   "cell_type": "code",
   "execution_count": null,
   "id": "e605349c",
   "metadata": {},
   "outputs": [],
   "source": [
    "# %%% Get the model\n",
    "model = utils.get_model(configSF, data_prep)\n",
    "optimizer = utils.build_optimizer(model, configSF.optimizer, configSF.learning_rate)\n",
    "\n",
    "# %%% Train\n",
    "history = utils.fit(configSF.epochs, \n",
    "                    model, \n",
    "                    data_prep.train_loader, \n",
    "                    data_prep.val_loader, \n",
    "                    optimizer=optimizer,\n",
    "                    hyperparameters = configSF.get_config(),\n",
    "                    if_wandb = configSF.if_wandb,\n",
    "                    path = PATH_DEEPSF,\n",
    "                    model_name = model_name,\n",
    "                    project_name = project_name) \n",
    "                   \n",
    "# %%% Plot results\n",
    "solution = plots.plot_results(history = history, \n",
    "                     scaledTrain_df = data_prep.scaledTrain_df, \n",
    "                     train_labels = data_prep.train_labels, \n",
    "                     scaled_train_gn = data_prep.scaled_train_gn, \n",
    "                     scaledValidation_df = data_prep.scaledValidation_df, \n",
    "                     valid_labels = data_prep.valid_labels , \n",
    "                     scaled_valid_gn = data_prep.scaled_valid_gn, \n",
    "                     model = model, \n",
    "                     getBM = data_prep.getBM,\n",
    "                     if_wandb = configSF.if_wandb,\n",
    "                     if_ensemble = configSF.if_ensemble,\n",
    "                     config = configSF)\n",
    "        \n",
    "if configSF.if_wandb:\n",
    "    wandb.finish()\n",
    "\n",
    "solution.solution_train_cor_total\n",
    "solution.solution_train_df\n",
    "solution.solution_val_cor_total\n",
    "solution.solution_val_df"
   ]
  },
  {
   "cell_type": "code",
   "execution_count": null,
   "id": "66678a69",
   "metadata": {},
   "outputs": [],
   "source": [
    "# Deeplift\n",
    "df_score_SFs = utils.do_deeplift(model, \n",
    "                 X_test = data_prep.scaledValidation_df,\n",
    "                 gn_test = data_prep.scaled_valid_gn, \n",
    "                 y_test = data_prep.valid_labels, \n",
    "                 data_prep = data_prep, \n",
    "                 if_ensemble = configSF.if_ensemble)\n",
    "df_score_SFs.head()"
   ]
  }
 ],
 "metadata": {
  "kernelspec": {
   "display_name": "Python 3 (ipykernel)",
   "language": "python",
   "name": "python3"
  },
  "language_info": {
   "codemirror_mode": {
    "name": "ipython",
    "version": 3
   },
   "file_extension": ".py",
   "mimetype": "text/x-python",
   "name": "python",
   "nbconvert_exporter": "python",
   "pygments_lexer": "ipython3",
   "version": "3.7.1"
  }
 },
 "nbformat": 4,
 "nbformat_minor": 5
}
